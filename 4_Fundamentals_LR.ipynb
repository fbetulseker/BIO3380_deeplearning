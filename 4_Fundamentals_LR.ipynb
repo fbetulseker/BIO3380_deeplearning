{
 "cells": [
  {
   "cell_type": "markdown",
   "metadata": {
    "id": "fykt6AeCkQmw"
   },
   "source": [
    "# Linear Regression\n",
    "\n",
    "The numeric value of each target is a linear combination of the k features of X, plus the β term to adjust the “baseline” value of the prediction.\n",
    "\n",
    "![image](https://i.imgur.com/nTA4VCl.png)\n",
    "\n",
    "Linear regression is a dot product:\n",
    "\n",
    "![image](https://i.imgur.com/zRWIWKb.png)\n",
    "![image](https://i.imgur.com/4333KIJ.png)\n",
    "\n",
    "![image](https://i.imgur.com/etK7KG3.png)\n",
    "\n",
    "Performing the matrix multiplication of this batch Xbatch with W gives a vector of predictions for the batch(forward pass):\n",
    "\n",
    "![image](https://i.imgur.com/EwaXzSz.png)"
   ]
  },
  {
   "cell_type": "markdown",
   "metadata": {
    "id": "-QOwOej_A99w"
   },
   "source": [
    "Calculating the gradients allows us to update the wieghts in the backwards pass.\n",
    "\n",
    "The math behind each step:\n",
    "\n",
    "![image](https://i.imgur.com/z2jzROM.png)\n",
    "\n",
    "## Second factor:\n",
    "\n",
    "![image](https://i.imgur.com/P4tXTHT.png)\n",
    "![image](https://i.imgur.com/xxFGERe.png)\n",
    "\n",
    "![image](https://i.imgur.com/JK64EQG.png)\n"
   ]
  },
  {
   "cell_type": "markdown",
   "metadata": {
    "id": "6QGTrWn48n6u",
    "tags": []
   },
   "source": [
    "# Manual linear regression"
   ]
  },
  {
   "cell_type": "code",
   "execution_count": 1,
   "metadata": {
    "id": "CjNpPtEe_CUv"
   },
   "outputs": [],
   "source": [
    "import numpy as np\n",
    "import pandas as pd\n",
    "from numpy import ndarray\n",
    "import matplotlib.pyplot as plt\n",
    "from typing import Callable, Dict, Tuple, List\n",
    "\n",
    "np.set_printoptions(precision=4)"
   ]
  },
  {
   "cell_type": "code",
   "execution_count": 2,
   "metadata": {
    "id": "cgPzE7mP_Pmb"
   },
   "outputs": [],
   "source": [
    "from sklearn import datasets\n",
    "\n",
    "iris = datasets.load_iris()\n",
    "data = iris.data[:,[0]]\n",
    "# print(data)\n",
    "target = iris.data[:,[2]]\n",
    "# print(target)\n",
    "features = iris.feature_names"
   ]
  },
  {
   "cell_type": "code",
   "execution_count": 3,
   "metadata": {
    "id": "v9PSj45sN2aW"
   },
   "outputs": [],
   "source": [
    "from sklearn.preprocessing import StandardScaler\n",
    "s = StandardScaler()\n",
    "data = s.fit_transform(data)\n",
    "from sklearn.model_selection import train_test_split\n",
    "X_train, X_test, y_train, y_test = train_test_split(data, target, test_size=0.3, random_state=104)\n",
    "\n",
    "y_train, y_test = y_train.reshape(-1, 1), y_test.reshape(-1, 1)\n"
   ]
  },
  {
   "cell_type": "code",
   "execution_count": 4,
   "metadata": {
    "id": "YLGeWBLY8n6o"
   },
   "outputs": [],
   "source": [
    "%load_ext autoreload\n",
    "%autoreload 2"
   ]
  },
  {
   "cell_type": "code",
   "execution_count": 5,
   "metadata": {
    "id": "MSg5b_1l8n6o"
   },
   "outputs": [],
   "source": [
    "TEST_ALL = False"
   ]
  },
  {
   "cell_type": "markdown",
   "metadata": {
    "id": "OUsahGfN8n6w"
   },
   "source": [
    "# Examine the following functions used to build linear regression from scratch:"
   ]
  },
  {
   "cell_type": "markdown",
   "metadata": {
    "id": "Rdcbqsww8n6w",
    "tags": []
   },
   "source": [
    "### Loss Gradient & Forward Loss:"
   ]
  },
  {
   "cell_type": "code",
   "execution_count": 6,
   "metadata": {
    "id": "RBEbH_5s8n6x"
   },
   "outputs": [],
   "source": [
    "def forward_loss(X, y, weights, bias):\n",
    "    '''\n",
    "    Generate predictions and calculate loss for a step-by-step linear regression\n",
    "    (used mostly during inference).\n",
    "    '''\n",
    "    N = np.dot(X, weights)\n",
    "\n",
    "    P = N + bias\n",
    "\n",
    "    loss = np.mean(np.power(y - P, 2))\n",
    "\n",
    "    return N, P, loss"
   ]
  },
  {
   "cell_type": "code",
   "execution_count": 7,
   "metadata": {
    "id": "9lYMLamc8n6x"
   },
   "outputs": [],
   "source": [
    "def loss_gradients(N, P, X, y, weights, bias):\n",
    "    '''\n",
    "    Compute dLdW and dLdB for the step-by-step linear regression model.\n",
    "    '''\n",
    "    batch_size = X.shape[0]\n",
    "\n",
    "    dLdP = -2 * (y - P)\n",
    "\n",
    "    dPdN = np.ones_like(N)\n",
    "\n",
    "    dPdB = np.ones_like(bias)\n",
    "\n",
    "    dLdN = dLdP * dPdN\n",
    "\n",
    "    dNdW = np.transpose(X, (1, 0))\n",
    "\n",
    "    # need to use matrix multiplication here,\n",
    "    # with dNdW on the left (see note at the end of last chapter)\n",
    "    dLdW = np.dot(dNdW, dLdN)\n",
    "\n",
    "    # need to sum along dimension representing the batch size:\n",
    "    # see note near the end of the chapter\n",
    "    dLdB = (dLdP * dPdB).sum(axis=0)\n",
    "\n",
    "    weights = dLdW\n",
    "    bias= dLdB\n",
    "\n",
    "    return weights, bias"
   ]
  },
  {
   "cell_type": "markdown",
   "metadata": {
    "id": "phMXrBmE8n6y"
   },
   "source": [
    "### Helpers:"
   ]
  },
  {
   "cell_type": "code",
   "execution_count": 8,
   "metadata": {
    "id": "4Dyv3bXV8n6z"
   },
   "outputs": [],
   "source": [
    "def init_weights(n_in):\n",
    "    '''\n",
    "    Initialize weights on first forward pass of model.\n",
    "    '''\n",
    "    W = np.random.randn(n_in, 1)\n",
    "    B = np.random.randn(1, 1)\n",
    "\n",
    "    return W,B"
   ]
  },
  {
   "cell_type": "code",
   "execution_count": 9,
   "metadata": {
    "id": "h30uzGTC-fTC"
   },
   "outputs": [],
   "source": [
    "def init_weights_ones(n_in):\n",
    "    W = np.ones((n_in, 1))\n",
    "    B = np.ones((1, 1))\n",
    "\n",
    "    return W,B\n"
   ]
  },
  {
   "cell_type": "code",
   "execution_count": 13,
   "metadata": {
    "id": "SWpWT5nqhFTe"
   },
   "outputs": [],
   "source": [
    "def generate_batch(X, y, start=0, batch_size=10):\n",
    "    '''\n",
    "    Generate batch from X and y, given a start position\n",
    "    '''\n",
    "    if start+batch_size > X.shape[0]:\n",
    "        batch_size = X.shape[0] - start\n",
    "\n",
    "    X_batch, y_batch = X[start:start+batch_size], y[start:start+batch_size]\n",
    "\n",
    "    return X_batch, y_batch"
   ]
  },
  {
   "cell_type": "markdown",
   "metadata": {
    "id": "deIlvKY_8n6z",
    "tags": []
   },
   "source": [
    "## Using the code snippets in the blocks given below, arrange them in the proper order to run the linear regression model. You will have to copy the code from the blocks and paste them into the code block with the for loop.\n",
    "\n",
    "##NOTE: All code snippets will go inside the same codeblock as the for loop, but not all snippets are meant to go inside the loop itself. It is up to you to determine the location for all snippets.\n",
    "\n",
    "#LR Code Blocks:\n"
   ]
  },
  {
   "cell_type": "code",
   "execution_count": 11,
   "metadata": {
    "id": "KJFqy3Cvdg4o"
   },
   "outputs": [
    {
     "ename": "NameError",
     "evalue": "name 'N' is not defined",
     "output_type": "error",
     "traceback": [
      "\u001b[1;31m---------------------------------------------------------------------------\u001b[0m",
      "\u001b[1;31mNameError\u001b[0m                                 Traceback (most recent call last)",
      "\u001b[1;32m~\\AppData\\Local\\Temp/ipykernel_14640/3927784830.py\u001b[0m in \u001b[0;36m<module>\u001b[1;34m\u001b[0m\n\u001b[0;32m      1\u001b[0m \u001b[1;31m# Calculate gradient\u001b[0m\u001b[1;33m\u001b[0m\u001b[1;33m\u001b[0m\u001b[0m\n\u001b[1;32m----> 2\u001b[1;33m \u001b[0mW\u001b[0m\u001b[1;33m,\u001b[0m \u001b[0mB\u001b[0m \u001b[1;33m=\u001b[0m \u001b[0mloss_gradients\u001b[0m\u001b[1;33m(\u001b[0m\u001b[0mN\u001b[0m\u001b[1;33m,\u001b[0m\u001b[0mP\u001b[0m\u001b[1;33m,\u001b[0m \u001b[0mX_batch\u001b[0m\u001b[1;33m,\u001b[0m \u001b[0my_batch\u001b[0m\u001b[1;33m,\u001b[0m \u001b[0mweights\u001b[0m\u001b[1;33m,\u001b[0m \u001b[0mbias\u001b[0m\u001b[1;33m)\u001b[0m\u001b[1;33m\u001b[0m\u001b[1;33m\u001b[0m\u001b[0m\n\u001b[0m",
      "\u001b[1;31mNameError\u001b[0m: name 'N' is not defined"
     ]
    }
   ],
   "source": [
    "# Calculate gradient\n",
    "W, B = loss_gradients(N,P, X_batch, y_batch, weights, bias)"
   ]
  },
  {
   "cell_type": "code",
   "execution_count": null,
   "metadata": {
    "id": "mG7c9BEACNdo"
   },
   "outputs": [],
   "source": [
    "#Initialize Variables\n",
    "X=X_train\n",
    "y=y_train\n",
    "n_iter = 1000\n",
    "learning_rate = 0.001\n",
    "batch_size = 100\n",
    "start = 0\n",
    "losses = []"
   ]
  },
  {
   "cell_type": "code",
   "execution_count": null,
   "metadata": {
    "id": "iL8NcjeUjSQP"
   },
   "outputs": [],
   "source": [
    "#GenerateBatch\n",
    "if start >= X.shape[0]:\n",
    "      # X, y = permute_data(X, y)\n",
    "      start = 0\n",
    "X_batch, y_batch = generate_batch(X, y, start, batch_size)\n",
    "start += batch_size"
   ]
  },
  {
   "cell_type": "code",
   "execution_count": null,
   "metadata": {
    "id": "LGlfvjrBaDiD"
   },
   "outputs": [],
   "source": [
    "# Initialize weights\n",
    "weights, bias = init_weights(X.shape[1])\n",
    "\n",
    "#Deterministic weight initialization\n",
    "# weights, bias = init_weights_ones(X.shape[1])"
   ]
  },
  {
   "cell_type": "code",
   "execution_count": null,
   "metadata": {
    "id": "_mYlqay0rklr"
   },
   "outputs": [],
   "source": [
    "#Update the weights\n",
    "weights -=learning_rate * W\n",
    "bias -= learning_rate * B"
   ]
  },
  {
   "cell_type": "code",
   "execution_count": null,
   "metadata": {
    "id": "J3HXbBvfddLd"
   },
   "outputs": [],
   "source": [
    "# Calculate forward loss\n",
    "N, P, loss = forward_loss(X_batch, y_batch, weights, bias)\n",
    "losses.append(loss)"
   ]
  },
  {
   "cell_type": "markdown",
   "metadata": {
    "id": "BLjsVoIjBt4J"
   },
   "source": [
    "# For loop block to paste the code:"
   ]
  },
  {
   "cell_type": "code",
   "execution_count": 34,
   "metadata": {
    "id": "7xbim0YaAj3f"
   },
   "outputs": [],
   "source": [
    "#Initialize Variables\n",
    "X=X_train\n",
    "y=y_train\n",
    "n_iter = 1000\n",
    "learning_rate = 0.0001 #have changed this because the graph looked different than asked one\n",
    "batch_size = 100\n",
    "start = 0\n",
    "losses = []\n",
    "#Initialize weights\n",
    "weights, bias = init_weights(X.shape[1])\n",
    "\n",
    "\n",
    "for i in range(n_iter):\n",
    "    #GenerateBatch\n",
    "    if start >= X.shape[0]:\n",
    "      # X, y = permute_data(X, y)\n",
    "        start = 0\n",
    "    X_batch, y_batch = generate_batch(X, y, start, batch_size)\n",
    "    start += batch_size\n",
    "    # Calculate forward loss\n",
    "    N, P, loss = forward_loss(X_batch, y_batch, weights, bias)\n",
    "    losses.append(loss)\n",
    "    # Calculate gradient\n",
    "    W, B = loss_gradients(N,P, X_batch, y_batch, weights, bias)\n",
    "    #Update the weights\n",
    "    weights -=learning_rate * W\n",
    "    bias -= learning_rate * B\n"
   ]
  },
  {
   "cell_type": "markdown",
   "metadata": {
    "id": "nVbOcQPftgSe"
   },
   "source": [
    "#Analysis"
   ]
  },
  {
   "cell_type": "code",
   "execution_count": 35,
   "metadata": {
    "colab": {
     "base_uri": "https://localhost:8080/",
     "height": 468
    },
    "id": "C0zWIfRW8n61",
    "outputId": "c1ec1549-e7cb-45e4-8909-f0546fde9c89",
    "scrolled": true
   },
   "outputs": [
    {
     "data": {
      "image/png": "[encoded data removed]",
      "text/plain": [
       "<Figure size 432x288 with 1 Axes>"
      ]
     },
     "metadata": {
      "needs_background": "light"
     },
     "output_type": "display_data"
    }
   ],
   "source": [
    "plt.plot(list(range(1000)), losses);"
   ]
  },
  {
   "cell_type": "markdown",
   "metadata": {
    "id": "_5IVrx9F8n62"
   },
   "source": [
    "## Function to predict from the weights of the trained LR model:"
   ]
  },
  {
   "cell_type": "code",
   "execution_count": 36,
   "metadata": {
    "id": "qj3ZpwiO8n63"
   },
   "outputs": [],
   "source": [
    "def predict(X, weights, bias):\n",
    "    '''\n",
    "    Generate predictions from the step-by-step linear regression model.\n",
    "    '''\n",
    "\n",
    "    N = np.dot(X, weights)\n",
    "\n",
    "    return N + bias"
   ]
  },
  {
   "cell_type": "markdown",
   "metadata": {
    "id": "2hmNLUlO8n63"
   },
   "source": [
    "## Generate predictions and calculate error:"
   ]
  },
  {
   "cell_type": "code",
   "execution_count": 37,
   "metadata": {
    "id": "Oft67Jz58n63"
   },
   "outputs": [],
   "source": [
    "preds = predict(X_test, weights,bias)"
   ]
  },
  {
   "cell_type": "code",
   "execution_count": 38,
   "metadata": {
    "colab": {
     "base_uri": "https://localhost:8080/",
     "height": 493
    },
    "id": "UoSqZocB8n7I",
    "outputId": "3fbf1860-7981-4410-c432-742671572c21"
   },
   "outputs": [
    {
     "data": {
      "image/png": "[encoded data removed]",
      "text/plain": [
       "<Figure size 432x288 with 1 Axes>"
      ]
     },
     "metadata": {
      "needs_background": "light"
     },
     "output_type": "display_data"
    }
   ],
   "source": [
    "plt.xlabel(\"Predicted value\")\n",
    "plt.ylabel(\"Actual value\")\n",
    "plt.title(\"Predicted vs. Actual values for\\ncustom linear regression model\");\n",
    "plt.xlim([0, 10])\n",
    "plt.ylim([0, 10])\n",
    "plt.scatter(preds, y_test)\n",
    "plt.plot([0, 10], [0, 10]);\n"
   ]
  }
 ],
 "metadata": {
  "colab": {
   "provenance": []
  },
  "kernelspec": {
   "display_name": "Python 3 (ipykernel)",
   "language": "python",
   "name": "python3"
  },
  "language_info": {
   "codemirror_mode": {
    "name": "ipython",
    "version": 3
   },
   "file_extension": ".py",
   "mimetype": "text/x-python",
   "name": "python",
   "nbconvert_exporter": "python",
   "pygments_lexer": "ipython3",
   "version": "3.9.7"
  }
 },
 "nbformat": 4,
 "nbformat_minor": 1
}
