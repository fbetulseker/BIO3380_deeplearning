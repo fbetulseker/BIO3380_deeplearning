{
 "cells": [
  {
   "cell_type": "markdown",
   "metadata": {},
   "source": [
    "## Olympics Data mini-project\n",
    "Temple Elements of Data Science"
   ]
  },
  {
   "cell_type": "code",
   "execution_count": 1,
   "metadata": {},
   "outputs": [],
   "source": [
    "# Enter your name as a string\n",
    "name = \"Fatma Betul Seker\""
   ]
  },
  {
   "cell_type": "code",
   "execution_count": 2,
   "metadata": {},
   "outputs": [],
   "source": [
    "# Extra Python functionality to import\n",
    "from datascience import *  # datascience Table \n",
    "\n",
    "import numpy as np\n",
    "import pandas as pd\n",
    "%matplotlib inline\n",
    "import matplotlib.pyplot as plt\n",
    "plt.style.use('fivethirtyeight')"
   ]
  },
  {
   "cell_type": "markdown",
   "metadata": {},
   "source": [
    "### Data Sets\n",
    "Athletes: Olympic_Data/athlete_events.csv\n",
    "Source: Kaggle https://www.kaggle.com/heesoo37/120-years-of-olympic-history-athletes-and-results"
   ]
  },
  {
   "cell_type": "code",
   "execution_count": 3,
   "metadata": {},
   "outputs": [
    {
     "data": {
      "text/html": [
       "<table border=\"1\" class=\"dataframe\">\n",
       "    <thead>\n",
       "        <tr>\n",
       "            <th>ID</th> <th>Name</th> <th>Sex</th> <th>Age</th> <th>Height</th> <th>Weight</th> <th>Team</th> <th>NOC</th> <th>Games</th> <th>Year</th> <th>Season</th> <th>City</th> <th>Sport</th> <th>Event</th> <th>Medal</th>\n",
       "        </tr>\n",
       "    </thead>\n",
       "    <tbody>\n",
       "        <tr>\n",
       "            <td>135570</td> <td>Piotr ya                  </td> <td>M   </td> <td>27  </td> <td>176   </td> <td>59    </td> <td>Poland  </td> <td>POL </td> <td>2014 Winter</td> <td>2014</td> <td>Winter</td> <td>Sochi</td> <td>Ski Jumping  </td> <td>Ski Jumping Men's Large Hill, Team      </td> <td>nan  </td>\n",
       "        </tr>\n",
       "    </tbody>\n",
       "        <tr>\n",
       "            <td>135570</td> <td>Piotr ya                  </td> <td>M   </td> <td>27  </td> <td>176   </td> <td>59    </td> <td>Poland  </td> <td>POL </td> <td>2014 Winter</td> <td>2014</td> <td>Winter</td> <td>Sochi</td> <td>Ski Jumping  </td> <td>Ski Jumping Men's Large Hill, Individual</td> <td>nan  </td>\n",
       "        </tr>\n",
       "    </tbody>\n",
       "        <tr>\n",
       "            <td>135500</td> <td>Kristaps Zvejnieks        </td> <td>M   </td> <td>21  </td> <td>185   </td> <td>87    </td> <td>Latvia  </td> <td>LAT </td> <td>2014 Winter</td> <td>2014</td> <td>Winter</td> <td>Sochi</td> <td>Alpine Skiing</td> <td>Alpine Skiing Men's Slalom              </td> <td>nan  </td>\n",
       "        </tr>\n",
       "    </tbody>\n",
       "        <tr>\n",
       "            <td>135500</td> <td>Kristaps Zvejnieks        </td> <td>M   </td> <td>21  </td> <td>185   </td> <td>87    </td> <td>Latvia  </td> <td>LAT </td> <td>2014 Winter</td> <td>2014</td> <td>Winter</td> <td>Sochi</td> <td>Alpine Skiing</td> <td>Alpine Skiing Men's Giant Slalom        </td> <td>nan  </td>\n",
       "        </tr>\n",
       "    </tbody>\n",
       "        <tr>\n",
       "            <td>135485</td> <td>Stepan Olegovich Zuyev    </td> <td>M   </td> <td>25  </td> <td>189   </td> <td>90    </td> <td>Russia  </td> <td>RUS </td> <td>2014 Winter</td> <td>2014</td> <td>Winter</td> <td>Sochi</td> <td>Alpine Skiing</td> <td>Alpine Skiing Men's Slalom              </td> <td>nan  </td>\n",
       "        </tr>\n",
       "    </tbody>\n",
       "        <tr>\n",
       "            <td>135485</td> <td>Stepan Olegovich Zuyev    </td> <td>M   </td> <td>25  </td> <td>189   </td> <td>90    </td> <td>Russia  </td> <td>RUS </td> <td>2014 Winter</td> <td>2014</td> <td>Winter</td> <td>Sochi</td> <td>Alpine Skiing</td> <td>Alpine Skiing Men's Giant Slalom        </td> <td>nan  </td>\n",
       "        </tr>\n",
       "    </tbody>\n",
       "        <tr>\n",
       "            <td>135485</td> <td>Stepan Olegovich Zuyev    </td> <td>M   </td> <td>25  </td> <td>189   </td> <td>90    </td> <td>Russia  </td> <td>RUS </td> <td>2014 Winter</td> <td>2014</td> <td>Winter</td> <td>Sochi</td> <td>Alpine Skiing</td> <td>Alpine Skiing Men's Super G             </td> <td>nan  </td>\n",
       "        </tr>\n",
       "    </tbody>\n",
       "        <tr>\n",
       "            <td>135365</td> <td>Mats Andr Zuccarello-Aasen</td> <td>M   </td> <td>26  </td> <td>171   </td> <td>74    </td> <td>Norway  </td> <td>NOR </td> <td>2014 Winter</td> <td>2014</td> <td>Winter</td> <td>Sochi</td> <td>Ice Hockey   </td> <td>Ice Hockey Men's Ice Hockey             </td> <td>nan  </td>\n",
       "        </tr>\n",
       "    </tbody>\n",
       "        <tr>\n",
       "            <td>135343</td> <td>Aleksandr Yuryevich Zubkov</td> <td>M   </td> <td>39  </td> <td>189   </td> <td>102   </td> <td>Russia-1</td> <td>RUS </td> <td>2014 Winter</td> <td>2014</td> <td>Winter</td> <td>Sochi</td> <td>Bobsleigh    </td> <td>Bobsleigh Men's Four                    </td> <td>Gold </td>\n",
       "        </tr>\n",
       "    </tbody>\n",
       "        <tr>\n",
       "            <td>135343</td> <td>Aleksandr Yuryevich Zubkov</td> <td>M   </td> <td>39  </td> <td>189   </td> <td>102   </td> <td>Russia-1</td> <td>RUS </td> <td>2014 Winter</td> <td>2014</td> <td>Winter</td> <td>Sochi</td> <td>Bobsleigh    </td> <td>Bobsleigh Men's Two                     </td> <td>Gold </td>\n",
       "        </tr>\n",
       "    </tbody>\n",
       "</table>\n",
       "<p>... (48554 rows omitted)</p>"
      ],
      "text/plain": [
       "ID     | Name                       | Sex  | Age  | Height | Weight | Team     | NOC  | Games       | Year | Season | City  | Sport         | Event                                    | Medal\n",
       "135570 | Piotr ya                   | M    | 27   | 176    | 59     | Poland   | POL  | 2014 Winter | 2014 | Winter | Sochi | Ski Jumping   | Ski Jumping Men's Large Hill, Team       | nan\n",
       "135570 | Piotr ya                   | M    | 27   | 176    | 59     | Poland   | POL  | 2014 Winter | 2014 | Winter | Sochi | Ski Jumping   | Ski Jumping Men's Large Hill, Individual | nan\n",
       "135500 | Kristaps Zvejnieks         | M    | 21   | 185    | 87     | Latvia   | LAT  | 2014 Winter | 2014 | Winter | Sochi | Alpine Skiing | Alpine Skiing Men's Slalom               | nan\n",
       "135500 | Kristaps Zvejnieks         | M    | 21   | 185    | 87     | Latvia   | LAT  | 2014 Winter | 2014 | Winter | Sochi | Alpine Skiing | Alpine Skiing Men's Giant Slalom         | nan\n",
       "135485 | Stepan Olegovich Zuyev     | M    | 25   | 189    | 90     | Russia   | RUS  | 2014 Winter | 2014 | Winter | Sochi | Alpine Skiing | Alpine Skiing Men's Slalom               | nan\n",
       "135485 | Stepan Olegovich Zuyev     | M    | 25   | 189    | 90     | Russia   | RUS  | 2014 Winter | 2014 | Winter | Sochi | Alpine Skiing | Alpine Skiing Men's Giant Slalom         | nan\n",
       "135485 | Stepan Olegovich Zuyev     | M    | 25   | 189    | 90     | Russia   | RUS  | 2014 Winter | 2014 | Winter | Sochi | Alpine Skiing | Alpine Skiing Men's Super G              | nan\n",
       "135365 | Mats Andr Zuccarello-Aasen | M    | 26   | 171    | 74     | Norway   | NOR  | 2014 Winter | 2014 | Winter | Sochi | Ice Hockey    | Ice Hockey Men's Ice Hockey              | nan\n",
       "135343 | Aleksandr Yuryevich Zubkov | M    | 39   | 189    | 102    | Russia-1 | RUS  | 2014 Winter | 2014 | Winter | Sochi | Bobsleigh     | Bobsleigh Men's Four                     | Gold\n",
       "135343 | Aleksandr Yuryevich Zubkov | M    | 39   | 189    | 102    | Russia-1 | RUS  | 2014 Winter | 2014 | Winter | Sochi | Bobsleigh     | Bobsleigh Men's Two                      | Gold\n",
       "... (48554 rows omitted)"
      ]
     },
     "execution_count": 3,
     "metadata": {},
     "output_type": "execute_result"
    }
   ],
   "source": [
    "datafile = \"Olympic_Data/athlete_events.csv\"\n",
    "athletes = Table.read_table(datafile).sort(\"Year\",descending=True).where(\"Season\",\"Winter\")\n",
    "athletes"
   ]
  },
  {
   "cell_type": "markdown",
   "metadata": {},
   "source": [
    "### Stage 1: Data exploration"
   ]
  },
  {
   "cell_type": "markdown",
   "metadata": {},
   "source": [
    "### Ages of Athletes\n",
    "Some ages are entered as <i>nan</i>.  <i>nan</i> is hard to work with so we will use a quick pandas command to remove these by converting the Table to a pandas dataframe,change <i>nan</i> to 0 and then convert the data back to a Table object. "
   ]
  },
  {
   "cell_type": "code",
   "execution_count": 4,
   "metadata": {},
   "outputs": [],
   "source": [
    "df = athletes.to_df() # Create pandas dataframe from Table object\n",
    "df['Age'].fillna(0, inplace=True)\n",
    "athletes = Table().from_df(df)"
   ]
  },
  {
   "cell_type": "markdown",
   "metadata": {},
   "source": [
    "#### Q1: What is the earliest year for a Winter Olympics in this dataset?"
   ]
  },
  {
   "cell_type": "code",
   "execution_count": 5,
   "metadata": {},
   "outputs": [
    {
     "data": {
      "text/plain": [
       "1924"
      ]
     },
     "execution_count": 5,
     "metadata": {},
     "output_type": "execute_result"
    }
   ],
   "source": [
    "min(athletes['Year'])"
   ]
  },
  {
   "cell_type": "markdown",
   "metadata": {},
   "source": [
    "Earliest year for a Winter Olympics is 1924 in the dataset."
   ]
  },
  {
   "cell_type": "markdown",
   "metadata": {},
   "source": [
    "#### Q2: Examine the distribution of the age of all Olympians with min, max, average, and plot with a histogram."
   ]
  },
  {
   "cell_type": "code",
   "execution_count": 6,
   "metadata": {},
   "outputs": [
    {
     "data": {
      "image/png": "[encoded data removed]",
      "text/plain": [
       "<matplotlib.figure.Figure at 0x7fb31c1625f8>"
      ]
     },
     "metadata": {},
     "output_type": "display_data"
    }
   ],
   "source": [
    "athletes.hist('Age')"
   ]
  },
  {
   "cell_type": "markdown",
   "metadata": {},
   "source": [
    "#### Q3: Now examine the age distribution of only gold medal winners. Compare these distributions from question 2 and 3."
   ]
  },
  {
   "cell_type": "code",
   "execution_count": 7,
   "metadata": {},
   "outputs": [
    {
     "data": {
      "image/png": "[encoded data removed]",
      "text/plain": [
       "<matplotlib.figure.Figure at 0x7fb2ef959400>"
      ]
     },
     "metadata": {},
     "output_type": "display_data"
    }
   ],
   "source": [
    "athletes.where('Medal', are.equal_to('Gold')).hist('Age')"
   ]
  },
  {
   "cell_type": "markdown",
   "metadata": {},
   "source": [
    "Athletes younger than 24 were less likely to win Gold medal relative to the athletes older than 24.  "
   ]
  },
  {
   "cell_type": "markdown",
   "metadata": {},
   "source": [
    "#### Q4: What are the top ten countries in number of athletes?"
   ]
  },
  {
   "cell_type": "code",
   "execution_count": 8,
   "metadata": {},
   "outputs": [
    {
     "data": {
      "text/html": [
       "<table border=\"1\" class=\"dataframe\">\n",
       "    <thead>\n",
       "        <tr>\n",
       "            <th>Team</th> <th>count</th>\n",
       "        </tr>\n",
       "    </thead>\n",
       "    <tbody>\n",
       "        <tr>\n",
       "            <td>United States</td> <td>3321 </td>\n",
       "        </tr>\n",
       "    </tbody>\n",
       "        <tr>\n",
       "            <td>Canada       </td> <td>2590 </td>\n",
       "        </tr>\n",
       "    </tbody>\n",
       "        <tr>\n",
       "            <td>Norway       </td> <td>2328 </td>\n",
       "        </tr>\n",
       "    </tbody>\n",
       "        <tr>\n",
       "            <td>Sweden       </td> <td>2231 </td>\n",
       "        </tr>\n",
       "    </tbody>\n",
       "        <tr>\n",
       "            <td>Italy        </td> <td>2209 </td>\n",
       "        </tr>\n",
       "    </tbody>\n",
       "        <tr>\n",
       "            <td>Japan        </td> <td>2056 </td>\n",
       "        </tr>\n",
       "    </tbody>\n",
       "        <tr>\n",
       "            <td>France       </td> <td>1967 </td>\n",
       "        </tr>\n",
       "    </tbody>\n",
       "        <tr>\n",
       "            <td>Austria      </td> <td>1954 </td>\n",
       "        </tr>\n",
       "    </tbody>\n",
       "        <tr>\n",
       "            <td>Germany      </td> <td>1948 </td>\n",
       "        </tr>\n",
       "    </tbody>\n",
       "        <tr>\n",
       "            <td>Switzerland  </td> <td>1911 </td>\n",
       "        </tr>\n",
       "    </tbody>\n",
       "</table>"
      ],
      "text/plain": [
       "Team          | count\n",
       "United States | 3321\n",
       "Canada        | 2590\n",
       "Norway        | 2328\n",
       "Sweden        | 2231\n",
       "Italy         | 2209\n",
       "Japan         | 2056\n",
       "France        | 1967\n",
       "Austria       | 1954\n",
       "Germany       | 1948\n",
       "Switzerland   | 1911"
      ]
     },
     "execution_count": 8,
     "metadata": {},
     "output_type": "execute_result"
    }
   ],
   "source": [
    "athletes.group(\"Team\").sort(\"count\",descending=True).take(np.arange(0,10))"
   ]
  },
  {
   "cell_type": "markdown",
   "metadata": {},
   "source": [
    "#### Q5: What are the top ten countries in number of Gold, silver, bronze medals, and total medals?  You should have four sets of top ten countries for each of the scenarios.  "
   ]
  },
  {
   "cell_type": "code",
   "execution_count": 9,
   "metadata": {},
   "outputs": [
    {
     "data": {
      "text/html": [
       "<table border=\"1\" class=\"dataframe\">\n",
       "    <thead>\n",
       "        <tr>\n",
       "            <th>Team</th> <th>count</th>\n",
       "        </tr>\n",
       "    </thead>\n",
       "    <tbody>\n",
       "        <tr>\n",
       "            <td>Canada       </td> <td>289  </td>\n",
       "        </tr>\n",
       "    </tbody>\n",
       "        <tr>\n",
       "            <td>Soviet Union </td> <td>228  </td>\n",
       "        </tr>\n",
       "    </tbody>\n",
       "        <tr>\n",
       "            <td>Norway       </td> <td>151  </td>\n",
       "        </tr>\n",
       "    </tbody>\n",
       "        <tr>\n",
       "            <td>United States</td> <td>141  </td>\n",
       "        </tr>\n",
       "    </tbody>\n",
       "        <tr>\n",
       "            <td>Sweden       </td> <td>125  </td>\n",
       "        </tr>\n",
       "    </tbody>\n",
       "        <tr>\n",
       "            <td>Germany      </td> <td>115  </td>\n",
       "        </tr>\n",
       "    </tbody>\n",
       "        <tr>\n",
       "            <td>Russia       </td> <td>72   </td>\n",
       "        </tr>\n",
       "    </tbody>\n",
       "        <tr>\n",
       "            <td>Austria      </td> <td>67   </td>\n",
       "        </tr>\n",
       "    </tbody>\n",
       "        <tr>\n",
       "            <td>Finland      </td> <td>66   </td>\n",
       "        </tr>\n",
       "    </tbody>\n",
       "        <tr>\n",
       "            <td>South Korea  </td> <td>50   </td>\n",
       "        </tr>\n",
       "    </tbody>\n",
       "</table>"
      ],
      "text/plain": [
       "Team          | count\n",
       "Canada        | 289\n",
       "Soviet Union  | 228\n",
       "Norway        | 151\n",
       "United States | 141\n",
       "Sweden        | 125\n",
       "Germany       | 115\n",
       "Russia        | 72\n",
       "Austria       | 67\n",
       "Finland       | 66\n",
       "South Korea   | 50"
      ]
     },
     "execution_count": 9,
     "metadata": {},
     "output_type": "execute_result"
    }
   ],
   "source": [
    "# Gold Medals\n",
    "athletes.where('Medal', are.equal_to('Gold')).group(\"Team\").sort(\"count\",descending=True).take(np.arange(0,10))"
   ]
  },
  {
   "cell_type": "code",
   "execution_count": 10,
   "metadata": {},
   "outputs": [
    {
     "data": {
      "text/html": [
       "<table border=\"1\" class=\"dataframe\">\n",
       "    <thead>\n",
       "        <tr>\n",
       "            <th>Team</th> <th>count</th>\n",
       "        </tr>\n",
       "    </thead>\n",
       "    <tbody>\n",
       "        <tr>\n",
       "            <td>United States </td> <td>271  </td>\n",
       "        </tr>\n",
       "    </tbody>\n",
       "        <tr>\n",
       "            <td>Canada        </td> <td>189  </td>\n",
       "        </tr>\n",
       "    </tbody>\n",
       "        <tr>\n",
       "            <td>Norway        </td> <td>165  </td>\n",
       "        </tr>\n",
       "    </tbody>\n",
       "        <tr>\n",
       "            <td>Finland       </td> <td>145  </td>\n",
       "        </tr>\n",
       "    </tbody>\n",
       "        <tr>\n",
       "            <td>Sweden        </td> <td>126  </td>\n",
       "        </tr>\n",
       "    </tbody>\n",
       "        <tr>\n",
       "            <td>Germany       </td> <td>114  </td>\n",
       "        </tr>\n",
       "    </tbody>\n",
       "        <tr>\n",
       "            <td>Soviet Union  </td> <td>81   </td>\n",
       "        </tr>\n",
       "    </tbody>\n",
       "        <tr>\n",
       "            <td>Czechoslovakia</td> <td>81   </td>\n",
       "        </tr>\n",
       "    </tbody>\n",
       "        <tr>\n",
       "            <td>Austria       </td> <td>80   </td>\n",
       "        </tr>\n",
       "    </tbody>\n",
       "        <tr>\n",
       "            <td>Russia        </td> <td>73   </td>\n",
       "        </tr>\n",
       "    </tbody>\n",
       "</table>"
      ],
      "text/plain": [
       "Team           | count\n",
       "United States  | 271\n",
       "Canada         | 189\n",
       "Norway         | 165\n",
       "Finland        | 145\n",
       "Sweden         | 126\n",
       "Germany        | 114\n",
       "Soviet Union   | 81\n",
       "Czechoslovakia | 81\n",
       "Austria        | 80\n",
       "Russia         | 73"
      ]
     },
     "execution_count": 10,
     "metadata": {},
     "output_type": "execute_result"
    }
   ],
   "source": [
    "# Silver Medals\n",
    "athletes.where('Medal', are.equal_to('Silver')).group(\"Team\").sort(\"count\",descending=True).take(np.arange(0,10))"
   ]
  },
  {
   "cell_type": "code",
   "execution_count": 11,
   "metadata": {
    "scrolled": true
   },
   "outputs": [
    {
     "data": {
      "text/html": [
       "<table border=\"1\" class=\"dataframe\">\n",
       "    <thead>\n",
       "        <tr>\n",
       "            <th>Team</th> <th>count</th>\n",
       "        </tr>\n",
       "    </thead>\n",
       "    <tbody>\n",
       "        <tr>\n",
       "            <td>Finland       </td> <td>215  </td>\n",
       "        </tr>\n",
       "    </tbody>\n",
       "        <tr>\n",
       "            <td>Sweden        </td> <td>177  </td>\n",
       "        </tr>\n",
       "    </tbody>\n",
       "        <tr>\n",
       "            <td>Norway        </td> <td>127  </td>\n",
       "        </tr>\n",
       "    </tbody>\n",
       "        <tr>\n",
       "            <td>United States </td> <td>121  </td>\n",
       "        </tr>\n",
       "    </tbody>\n",
       "        <tr>\n",
       "            <td>Switzerland   </td> <td>97   </td>\n",
       "        </tr>\n",
       "    </tbody>\n",
       "        <tr>\n",
       "            <td>Canada        </td> <td>97   </td>\n",
       "        </tr>\n",
       "    </tbody>\n",
       "        <tr>\n",
       "            <td>Austria       </td> <td>97   </td>\n",
       "        </tr>\n",
       "    </tbody>\n",
       "        <tr>\n",
       "            <td>Soviet Union  </td> <td>81   </td>\n",
       "        </tr>\n",
       "    </tbody>\n",
       "        <tr>\n",
       "            <td>France        </td> <td>75   </td>\n",
       "        </tr>\n",
       "    </tbody>\n",
       "        <tr>\n",
       "            <td>Czechoslovakia</td> <td>75   </td>\n",
       "        </tr>\n",
       "    </tbody>\n",
       "</table>"
      ],
      "text/plain": [
       "Team           | count\n",
       "Finland        | 215\n",
       "Sweden         | 177\n",
       "Norway         | 127\n",
       "United States  | 121\n",
       "Switzerland    | 97\n",
       "Canada         | 97\n",
       "Austria        | 97\n",
       "Soviet Union   | 81\n",
       "France         | 75\n",
       "Czechoslovakia | 75"
      ]
     },
     "execution_count": 11,
     "metadata": {},
     "output_type": "execute_result"
    }
   ],
   "source": [
    "# Bronz Medals\n",
    "athletes.where('Medal', are.equal_to('Bronze')).group(\"Team\").sort(\"count\",descending=True).take(np.arange(0,10))"
   ]
  },
  {
   "cell_type": "code",
   "execution_count": 12,
   "metadata": {},
   "outputs": [
    {
     "data": {
      "text/html": [
       "<table border=\"1\" class=\"dataframe\">\n",
       "    <thead>\n",
       "        <tr>\n",
       "            <th>Team</th> <th>count</th>\n",
       "        </tr>\n",
       "    </thead>\n",
       "    <tbody>\n",
       "        <tr>\n",
       "            <td>Canada       </td> <td>575  </td>\n",
       "        </tr>\n",
       "    </tbody>\n",
       "        <tr>\n",
       "            <td>United States</td> <td>533  </td>\n",
       "        </tr>\n",
       "    </tbody>\n",
       "        <tr>\n",
       "            <td>Norway       </td> <td>443  </td>\n",
       "        </tr>\n",
       "    </tbody>\n",
       "        <tr>\n",
       "            <td>Sweden       </td> <td>428  </td>\n",
       "        </tr>\n",
       "    </tbody>\n",
       "        <tr>\n",
       "            <td>Finland      </td> <td>426  </td>\n",
       "        </tr>\n",
       "    </tbody>\n",
       "        <tr>\n",
       "            <td>Soviet Union </td> <td>390  </td>\n",
       "        </tr>\n",
       "    </tbody>\n",
       "        <tr>\n",
       "            <td>Germany      </td> <td>297  </td>\n",
       "        </tr>\n",
       "    </tbody>\n",
       "        <tr>\n",
       "            <td>Austria      </td> <td>244  </td>\n",
       "        </tr>\n",
       "    </tbody>\n",
       "        <tr>\n",
       "            <td>Russia       </td> <td>216  </td>\n",
       "        </tr>\n",
       "    </tbody>\n",
       "        <tr>\n",
       "            <td>Switzerland  </td> <td>183  </td>\n",
       "        </tr>\n",
       "    </tbody>\n",
       "</table>"
      ],
      "text/plain": [
       "Team          | count\n",
       "Canada        | 575\n",
       "United States | 533\n",
       "Norway        | 443\n",
       "Sweden        | 428\n",
       "Finland       | 426\n",
       "Soviet Union  | 390\n",
       "Germany       | 297\n",
       "Austria       | 244\n",
       "Russia        | 216\n",
       "Switzerland   | 183"
      ]
     },
     "execution_count": 12,
     "metadata": {},
     "output_type": "execute_result"
    }
   ],
   "source": [
    "# Total Medals\n",
    "athletes.where('Medal', are.not_equal_to(\"nan\")).group(\"Team\").sort(\"count\",descending=True).take(np.arange(0,10))"
   ]
  },
  {
   "cell_type": "markdown",
   "metadata": {},
   "source": [
    "#### Q6: What are the top 5 sports in terms of number of athletes? "
   ]
  },
  {
   "cell_type": "code",
   "execution_count": 13,
   "metadata": {},
   "outputs": [
    {
     "data": {
      "text/html": [
       "<table border=\"1\" class=\"dataframe\">\n",
       "    <thead>\n",
       "        <tr>\n",
       "            <th>Sport</th> <th>count</th>\n",
       "        </tr>\n",
       "    </thead>\n",
       "    <tbody>\n",
       "        <tr>\n",
       "            <td>Cross Country Skiing</td> <td>9133 </td>\n",
       "        </tr>\n",
       "    </tbody>\n",
       "        <tr>\n",
       "            <td>Alpine Skiing       </td> <td>8829 </td>\n",
       "        </tr>\n",
       "    </tbody>\n",
       "        <tr>\n",
       "            <td>Speed Skating       </td> <td>5613 </td>\n",
       "        </tr>\n",
       "    </tbody>\n",
       "        <tr>\n",
       "            <td>Ice Hockey          </td> <td>5456 </td>\n",
       "        </tr>\n",
       "    </tbody>\n",
       "        <tr>\n",
       "            <td>Biathlon            </td> <td>4893 </td>\n",
       "        </tr>\n",
       "    </tbody>\n",
       "</table>"
      ],
      "text/plain": [
       "Sport                | count\n",
       "Cross Country Skiing | 9133\n",
       "Alpine Skiing        | 8829\n",
       "Speed Skating        | 5613\n",
       "Ice Hockey           | 5456\n",
       "Biathlon             | 4893"
      ]
     },
     "execution_count": 13,
     "metadata": {},
     "output_type": "execute_result"
    }
   ],
   "source": [
    "athletes.group(\"Sport\").sort(\"count\",descending=True).take(np.arange(0,5))"
   ]
  },
  {
   "cell_type": "markdown",
   "metadata": {},
   "source": [
    "#### Q7: Which sports (top 5) have awarded the most medals?"
   ]
  },
  {
   "cell_type": "code",
   "execution_count": 14,
   "metadata": {},
   "outputs": [
    {
     "data": {
      "text/html": [
       "<table border=\"1\" class=\"dataframe\">\n",
       "    <thead>\n",
       "        <tr>\n",
       "            <th>Sport</th> <th>count</th>\n",
       "        </tr>\n",
       "    </thead>\n",
       "    <tbody>\n",
       "        <tr>\n",
       "            <td>Ice Hockey          </td> <td>1503 </td>\n",
       "        </tr>\n",
       "    </tbody>\n",
       "        <tr>\n",
       "            <td>Cross Country Skiing</td> <td>776  </td>\n",
       "        </tr>\n",
       "    </tbody>\n",
       "        <tr>\n",
       "            <td>Speed Skating       </td> <td>580  </td>\n",
       "        </tr>\n",
       "    </tbody>\n",
       "        <tr>\n",
       "            <td>Alpine Skiing       </td> <td>428  </td>\n",
       "        </tr>\n",
       "    </tbody>\n",
       "        <tr>\n",
       "            <td>Biathlon            </td> <td>408  </td>\n",
       "        </tr>\n",
       "    </tbody>\n",
       "</table>"
      ],
      "text/plain": [
       "Sport                | count\n",
       "Ice Hockey           | 1503\n",
       "Cross Country Skiing | 776\n",
       "Speed Skating        | 580\n",
       "Alpine Skiing        | 428\n",
       "Biathlon             | 408"
      ]
     },
     "execution_count": 14,
     "metadata": {},
     "output_type": "execute_result"
    }
   ],
   "source": [
    "athletes.where(\"Medal\",are.not_equal_to(\"nan\")).group(\"Sport\").sort(\"count\",descending=True).take(np.arange(0,5))"
   ]
  },
  {
   "cell_type": "markdown",
   "metadata": {},
   "source": [
    "#### Q8: Which sports (top 5) awarded the most medals in Lake Placid, New York (1980,  https://www.lakeplacid.com/do/activities/olympic-sites )."
   ]
  },
  {
   "cell_type": "code",
   "execution_count": 15,
   "metadata": {},
   "outputs": [
    {
     "data": {
      "text/html": [
       "<table border=\"1\" class=\"dataframe\">\n",
       "    <thead>\n",
       "        <tr>\n",
       "            <th>Sport</th> <th>count</th>\n",
       "        </tr>\n",
       "    </thead>\n",
       "    <tbody>\n",
       "        <tr>\n",
       "            <td>Ice Hockey          </td> <td>59   </td>\n",
       "        </tr>\n",
       "    </tbody>\n",
       "        <tr>\n",
       "            <td>Cross Country Skiing</td> <td>38   </td>\n",
       "        </tr>\n",
       "    </tbody>\n",
       "        <tr>\n",
       "            <td>Speed Skating       </td> <td>28   </td>\n",
       "        </tr>\n",
       "    </tbody>\n",
       "        <tr>\n",
       "            <td>Figure Skating      </td> <td>18   </td>\n",
       "        </tr>\n",
       "    </tbody>\n",
       "        <tr>\n",
       "            <td>Bobsleigh           </td> <td>18   </td>\n",
       "        </tr>\n",
       "    </tbody>\n",
       "</table>"
      ],
      "text/plain": [
       "Sport                | count\n",
       "Ice Hockey           | 59\n",
       "Cross Country Skiing | 38\n",
       "Speed Skating        | 28\n",
       "Figure Skating       | 18\n",
       "Bobsleigh            | 18"
      ]
     },
     "execution_count": 15,
     "metadata": {},
     "output_type": "execute_result"
    }
   ],
   "source": [
    "athletes.where(\"Medal\",are.not_equal_to(\"nan\")).where('Year', are.equal_to(1980)).group(\"Sport\").sort(\"count\",descending=True).take(np.arange(0,5))"
   ]
  },
  {
   "cell_type": "markdown",
   "metadata": {},
   "source": [
    "#### Q9: Remember medals are awarded to each participant on a team, how does this effect the results you found above?"
   ]
  },
  {
   "cell_type": "markdown",
   "metadata": {},
   "source": [
    "Ice Hockey has the largest team size in the winter olympics. Each team has 17-22 athletes. That means in ice hokey 17-22 medals are distibuted for each medal type. "
   ]
  },
  {
   "cell_type": "markdown",
   "metadata": {},
   "source": [
    "### Stage 2: Time trends and comparative results"
   ]
  },
  {
   "cell_type": "markdown",
   "metadata": {},
   "source": [
    "#### Q1: Plot the trend in number of athletes per year. \n",
    "Hint: athletes.group(\"Year\").plot(\"Year\",\"count\")"
   ]
  },
  {
   "cell_type": "code",
   "execution_count": 16,
   "metadata": {},
   "outputs": [
    {
     "data": {
      "image/png": "[encoded data removed]",
      "text/plain": [
       "<matplotlib.figure.Figure at 0x7fb2efc50358>"
      ]
     },
     "metadata": {},
     "output_type": "display_data"
    }
   ],
   "source": [
    "athletes.group(\"Year\").plot(\"Year\",\"count\")"
   ]
  },
  {
   "cell_type": "markdown",
   "metadata": {},
   "source": [
    "#### Q2: Plot the number of medals per year"
   ]
  },
  {
   "cell_type": "code",
   "execution_count": 17,
   "metadata": {},
   "outputs": [
    {
     "data": {
      "image/png": "[encoded data removed]",
      "text/plain": [
       "<matplotlib.figure.Figure at 0x7fb2ef10c780>"
      ]
     },
     "metadata": {},
     "output_type": "display_data"
    }
   ],
   "source": [
    "athletes.where('Medal', are.not_equal_to('nan')).group(\"Year\").plot(\"Year\",\"count\")"
   ]
  },
  {
   "cell_type": "markdown",
   "metadata": {},
   "source": [
    "#### Q3: Plot the number of gold medals per year excluding “Ice Hockey”, why hockey?"
   ]
  },
  {
   "cell_type": "code",
   "execution_count": 18,
   "metadata": {
    "scrolled": true
   },
   "outputs": [
    {
     "data": {
      "image/png": "[encoded data removed]",
      "text/plain": [
       "<matplotlib.figure.Figure at 0x7fb2efc505f8>"
      ]
     },
     "metadata": {},
     "output_type": "display_data"
    }
   ],
   "source": [
    "athletes.where('Sport', are.not_equal_to(\"Ice Hockey\")).where('Medal', are.not_equal_to('nan')).group(\"Year\").plot(\"Year\",\"count\")"
   ]
  },
  {
   "cell_type": "markdown",
   "metadata": {},
   "source": [
    "Since the ice hockey is the most medal distributing sport in one shot, a small change in the ice hockey regulations could create large variations that distorts our analysis"
   ]
  },
  {
   "cell_type": "markdown",
   "metadata": {},
   "source": [
    "#### Q4: Plot an overlay of gold, silver, and bronze medals as a function of year on the same plot excluding hockey."
   ]
  },
  {
   "cell_type": "code",
   "execution_count": 19,
   "metadata": {},
   "outputs": [],
   "source": [
    "allmedals = athletes.where('Sport', are.not_equal_to(\"Ice Hockey\")).where('Medal', \n",
    "    are.not_equal_to('nan')).group(\"Year\")\n",
    "\n",
    "goldmedals = athletes.where('Sport', are.not_equal_to(\"Ice Hockey\")).where('Medal', \n",
    "    are.equal_to('Gold')).group(\"Year\")\n",
    "\n",
    "silvermedals = athletes.where('Sport', are.not_equal_to(\"Ice Hockey\")).where('Medal', \n",
    "    are.equal_to('Silver')).group(\"Year\")\n",
    "\n",
    "bronzemedals = athletes.where('Sport', are.not_equal_to(\"Ice Hockey\")).where('Medal', \n",
    "    are.equal_to('Bronze')).group(\"Year\")\n"
   ]
  },
  {
   "cell_type": "code",
   "execution_count": 20,
   "metadata": {},
   "outputs": [
    {
     "data": {
      "text/plain": [
       "<matplotlib.legend.Legend at 0x7fb2ef04db00>"
      ]
     },
     "execution_count": 20,
     "metadata": {},
     "output_type": "execute_result"
    },
    {
     "data": {
      "image/png": "[encoded data removed]",
      "text/plain": [
       "<matplotlib.figure.Figure at 0x7fb2ef116ba8>"
      ]
     },
     "metadata": {},
     "output_type": "display_data"
    }
   ],
   "source": [
    "plt.plot(allmedals.column('Year'), allmedals.column('count'))\n",
    "plt.plot(goldmedals.column('Year'), goldmedals.column('count'))\n",
    "plt.plot(silvermedals.column('Year'), silvermedals.column('count'))\n",
    "plt.plot(bronzemedals.column('Year'), bronzemedals.column('count'))\n",
    "plt.xlabel('Year')\n",
    "plt.ylabel('No Medals')\n",
    "\n",
    "plt.legend(['Total', 'Gold', 'Silver', 'Bronze'], loc = 'upper left')"
   ]
  },
  {
   "cell_type": "markdown",
   "metadata": {},
   "source": [
    "#### Q5: Compare the US and Norway medal counts as a function of year by overlaying their counts. \n",
    "Hint: Can overwrite athletes with just US and Norway data\n",
    "athletes = athletes.where(\"Team\",\"Norway\").join(\"Year\",athletes.where(\"Team\",\"United States\"))"
   ]
  },
  {
   "cell_type": "code",
   "execution_count": 21,
   "metadata": {},
   "outputs": [],
   "source": [
    "# Answer to examine combined data use this panda trick to overwrite athletes table with US & Norway data only\n",
    "df = df.loc[(df['Team'] == \"United States\") | (df['Team'] == \"Norway\" )] # Easy way to get \n",
    "athletes = Table().from_df(df) # Overwrite athletes Table object"
   ]
  },
  {
   "cell_type": "code",
   "execution_count": 22,
   "metadata": {},
   "outputs": [
    {
     "data": {
      "text/plain": [
       "<matplotlib.legend.Legend at 0x7fb2eaf78828>"
      ]
     },
     "execution_count": 22,
     "metadata": {},
     "output_type": "execute_result"
    },
    {
     "data": {
      "image/png": "[encoded data removed]",
      "text/plain": [
       "<matplotlib.figure.Figure at 0x7fb2efc502b0>"
      ]
     },
     "metadata": {},
     "output_type": "display_data"
    }
   ],
   "source": [
    "USmdls = athletes.where('Team', are.equal_to('United States')).where('Medal', are.not_equal_to('nan')).group('Year')\n",
    "NORmdls = athletes.where('Team', are.equal_to('Norway')).where('Medal', are.not_equal_to('nan')).group('Year')\n",
    "\n",
    "plt.plot(USmdls.column('Year'), USmdls.column('count'))\n",
    "plt.plot(NORmdls.column('Year'), NORmdls.column('count'))\n",
    "\n",
    "plt.xlabel('Year')\n",
    "plt.ylabel('No Medals')\n",
    "\n",
    "plt.legend(['United States', 'Norway'], loc = 'upper left')\n"
   ]
  },
  {
   "cell_type": "markdown",
   "metadata": {},
   "source": [
    "#### Q6: Now use a scatter plot (.scatter() ) to look at the number of athletes per year for the US versus that for Norway. What trends do you see?"
   ]
  },
  {
   "cell_type": "code",
   "execution_count": 23,
   "metadata": {},
   "outputs": [
    {
     "data": {
      "text/plain": [
       "<matplotlib.legend.Legend at 0x7fb2efbc5940>"
      ]
     },
     "execution_count": 23,
     "metadata": {},
     "output_type": "execute_result"
    },
    {
     "data": {
      "image/png": "[encoded data removed]",
      "text/plain": [
       "<matplotlib.figure.Figure at 0x7fb2ef144550>"
      ]
     },
     "metadata": {},
     "output_type": "display_data"
    }
   ],
   "source": [
    "USathletes = athletes.where('Team', are.equal_to('United States')).group('Year')\n",
    "NORathletes = athletes.where('Team', are.equal_to('Norway')).group('Year')\n",
    "\n",
    "plt.scatter(USathletes.column('Year'), USathletes.column('count'))\n",
    "plt.scatter(NORathletes.column('Year'), NORathletes.column('count'))\n",
    "\n",
    "plt.xlabel('Year')\n",
    "plt.ylabel('No Athletes')\n",
    "\n",
    "plt.legend(['United States', 'Norway'], loc = 'upper left')\n",
    "\n"
   ]
  },
  {
   "cell_type": "markdown",
   "metadata": {},
   "source": [
    "Number of athletes are increasing for both countries but since 1990 the no athletes of the US has increased more than Norway's. Medals are also similarly in the previous graph. "
   ]
  },
  {
   "cell_type": "markdown",
   "metadata": {},
   "source": [
    "#### Q7: Use a scatter to plot the number of athletes for each country versus the number of medals. "
   ]
  },
  {
   "cell_type": "code",
   "execution_count": 24,
   "metadata": {},
   "outputs": [
    {
     "data": {
      "text/plain": [
       "<matplotlib.legend.Legend at 0x7fb2eae9ccf8>"
      ]
     },
     "execution_count": 24,
     "metadata": {},
     "output_type": "execute_result"
    },
    {
     "data": {
      "image/png": "[encoded data removed]",
      "text/plain": [
       "<matplotlib.figure.Figure at 0x7fb2e9e87f28>"
      ]
     },
     "metadata": {},
     "output_type": "display_data"
    }
   ],
   "source": [
    "US = USathletes.join('Year', USmdls)\n",
    "NOR = NORathletes.join('Year', NORmdls)\n",
    "\n",
    "plt.scatter(US.column('count'), US.column('count_2'))\n",
    "plt.scatter(NOR.column('count'), NOR.column('count_2'))\n",
    "\n",
    "plt.xlabel('No Athletes')\n",
    "plt.ylabel('No Medals')\n",
    "\n",
    "plt.legend(['United States', 'Norway'], loc = 'upper left')\n"
   ]
  },
  {
   "cell_type": "code",
   "execution_count": 25,
   "metadata": {},
   "outputs": [
    {
     "name": "stdout",
     "output_type": "stream",
     "text": [
      "Submitted by:  Fatma Betul Seker  on:  Sun Feb 13 16:51:34 2022\n"
     ]
    }
   ],
   "source": [
    "import time\n",
    "localtime = time.asctime( time.localtime(time.time()) )\n",
    "print(\"Submitted by: \", name, \" on: \", localtime)"
   ]
  }
 ],
 "metadata": {
  "kernelspec": {
   "display_name": "Python 3 (ipykernel)",
   "language": "python",
   "name": "python3"
  },
  "language_info": {
   "codemirror_mode": {
    "name": "ipython",
    "version": 3
   },
   "file_extension": ".py",
   "mimetype": "text/x-python",
   "name": "python",
   "nbconvert_exporter": "python",
   "pygments_lexer": "ipython3",
   "version": "3.11.4"
  }
 },
 "nbformat": 4,
 "nbformat_minor": 2
}
